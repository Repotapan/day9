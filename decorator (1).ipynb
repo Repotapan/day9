{
 "cells": [
  {
   "cell_type": "code",
   "execution_count": 3,
   "id": "6beda364-7fdc-413d-bbb5-9b3eead25bc4",
   "metadata": {},
   "outputs": [],
   "source": [
    "def test():\n",
    "    print(\"this is the start of my fun\")\n",
    "    print(\"this is my fun to test\")\n",
    "    print(4+5)\n",
    "    print(\"this is the end of my fun\")"
   ]
  },
  {
   "cell_type": "code",
   "execution_count": 4,
   "id": "aa492baa-914d-4ce0-a5fb-23dc1242a0ed",
   "metadata": {},
   "outputs": [
    {
     "name": "stdout",
     "output_type": "stream",
     "text": [
      "this is the start of my fun\n",
      "this is my fun to test\n",
      "9\n",
      "this is the end of my fun\n"
     ]
    }
   ],
   "source": [
    "test()"
   ]
  },
  {
   "cell_type": "code",
   "execution_count": 18,
   "id": "8439e3f1-510f-400d-8f0c-e934b725863a",
   "metadata": {},
   "outputs": [],
   "source": [
    "def deco(func):\n",
    "    def inner_dec():\n",
    "        print(\"this is my first function\")\n",
    "        func()\n",
    "        print(\"this is my end of function\")\n",
    "    return inner_dec"
   ]
  },
  {
   "cell_type": "code",
   "execution_count": 19,
   "id": "1071144b-7a18-4c1e-87a9-d7c46feeb05b",
   "metadata": {},
   "outputs": [],
   "source": [
    "@deco\n",
    "def test():\n",
    "    print(4+7)"
   ]
  },
  {
   "cell_type": "code",
   "execution_count": 20,
   "id": "fe467492-cd33-4a2e-a5a9-dbd3108432cf",
   "metadata": {},
   "outputs": [
    {
     "name": "stdout",
     "output_type": "stream",
     "text": [
      "this is my first function\n",
      "11\n",
      "this is my end of function\n"
     ]
    }
   ],
   "source": [
    "test()"
   ]
  },
  {
   "cell_type": "code",
   "execution_count": 27,
   "id": "f985535f-9d87-49e2-8306-f57a610fbd1a",
   "metadata": {},
   "outputs": [],
   "source": [
    "import time\n",
    "def inner_test(func):\n",
    "    def timer_test_inner():\n",
    "        start = time.time()\n",
    "        func()\n",
    "        end =  time.time()\n",
    "        print(end-start)\n",
    "    return timer_test_inner\n"
   ]
  },
  {
   "cell_type": "code",
   "execution_count": 28,
   "id": "04f6e4a1-81b3-4b46-8eb1-11d4bcc9e39b",
   "metadata": {},
   "outputs": [],
   "source": [
    "@inner_test\n",
    "def test2():\n",
    "    print(9+7)"
   ]
  },
  {
   "cell_type": "code",
   "execution_count": 29,
   "id": "df851abc-38d3-43dc-b694-4c62bf25d90b",
   "metadata": {},
   "outputs": [
    {
     "name": "stdout",
     "output_type": "stream",
     "text": [
      "16\n",
      "5.14984130859375e-05\n"
     ]
    }
   ],
   "source": [
    "test2()"
   ]
  },
  {
   "cell_type": "code",
   "execution_count": 40,
   "id": "e1683f87-3ade-4f8e-833a-1dcc8ca2470e",
   "metadata": {},
   "outputs": [],
   "source": [
    "@inner_test\n",
    "def test3():\n",
    "    for i in range(1000000000):\n",
    "        pass"
   ]
  },
  {
   "cell_type": "code",
   "execution_count": 43,
   "id": "5860cd0d-66a0-480a-adea-8866d7cc0048",
   "metadata": {},
   "outputs": [
    {
     "name": "stdout",
     "output_type": "stream",
     "text": [
      "22.500836849212646\n"
     ]
    }
   ],
   "source": [
    "test3()\n"
   ]
  },
  {
   "cell_type": "code",
   "execution_count": null,
   "id": "35c170ed-8273-4c6e-b3d9-86ef7be80811",
   "metadata": {},
   "outputs": [],
   "source": []
  },
  {
   "cell_type": "code",
   "execution_count": null,
   "id": "6edda52a-fff1-4c50-baa2-fcafb07d9b1e",
   "metadata": {},
   "outputs": [],
   "source": []
  },
  {
   "cell_type": "code",
   "execution_count": null,
   "id": "000458af-c8dd-40da-a658-78d926b7ecb6",
   "metadata": {},
   "outputs": [],
   "source": []
  },
  {
   "cell_type": "code",
   "execution_count": null,
   "id": "4fadbad9-5e6d-4155-84a7-3e0052020858",
   "metadata": {},
   "outputs": [],
   "source": []
  },
  {
   "cell_type": "code",
   "execution_count": null,
   "id": "ffdd96cc-06d0-4e94-9f98-d3acb2658d23",
   "metadata": {},
   "outputs": [],
   "source": []
  },
  {
   "cell_type": "code",
   "execution_count": null,
   "id": "ea3a1fba-8b63-4549-99a2-36fa7553dd2b",
   "metadata": {},
   "outputs": [],
   "source": []
  },
  {
   "cell_type": "code",
   "execution_count": null,
   "id": "95e15b82-b915-4651-a87c-7fd9cad9d88b",
   "metadata": {},
   "outputs": [],
   "source": []
  }
 ],
 "metadata": {
  "kernelspec": {
   "display_name": "Python 3 (ipykernel)",
   "language": "python",
   "name": "python3"
  },
  "language_info": {
   "codemirror_mode": {
    "name": "ipython",
    "version": 3
   },
   "file_extension": ".py",
   "mimetype": "text/x-python",
   "name": "python",
   "nbconvert_exporter": "python",
   "pygments_lexer": "ipython3",
   "version": "3.10.8"
  }
 },
 "nbformat": 4,
 "nbformat_minor": 5
}
